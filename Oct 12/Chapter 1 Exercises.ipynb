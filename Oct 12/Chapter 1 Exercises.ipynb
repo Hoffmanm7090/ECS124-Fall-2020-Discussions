{
 "cells": [
  {
   "cell_type": "markdown",
   "metadata": {},
   "source": [
    "# Minimum Skew Problem\n",
    "\n",
    "We're going to solve the Minimum Skew Problem in chpater 1.7 of the book. I Won't repeat the biology here, but general idea is that there will be less Gs on the reverse strand compared and less Cs on the forward strand. This means that as you go over the reverse strand you'll see more Cs than Gs and as you go over the forward strand you'll see more Gs than Cs. \n",
    "\n",
    "First let's try to calculate the differnece between Gs and Cs in a given genome:"
   ]
  },
  {
   "cell_type": "code",
   "execution_count": 2,
   "metadata": {},
   "outputs": [],
   "source": [
    "genome = 'CCTATCGGTGGATTAGCATGTCCCTGTACGTTTCGCCGCGAACTAGTTCACACGGCTTGATGGCAAATGGTTTTTCCGGCGACCGTAATCGTCCACCGAG'"
   ]
  },
  {
   "cell_type": "code",
   "execution_count": 3,
   "metadata": {},
   "outputs": [],
   "source": [
    "diff = 0\n",
    "skew = []\n",
    "for i, c in enumerate(genome):\n",
    "    if c == 'G':\n",
    "        diff += 1\n",
    "    if c == 'C':\n",
    "        diff -= 1\n",
    "    skew.append(diff)"
   ]
  },
  {
   "cell_type": "markdown",
   "metadata": {},
   "source": [
    "We stored the difference at each point in the genome in the array `skew`. Now let's find the minimum:"
   ]
  },
  {
   "cell_type": "code",
   "execution_count": 4,
   "metadata": {},
   "outputs": [],
   "source": [
    "m = min(skew)"
   ]
  },
  {
   "cell_type": "markdown",
   "metadata": {},
   "source": [
    "Now that we know the minimum, let's find all the positions in the genome where the skew has this value:"
   ]
  },
  {
   "cell_type": "code",
   "execution_count": 5,
   "metadata": {},
   "outputs": [
    {
     "name": "stdout",
     "output_type": "stream",
     "text": [
      "[53, 97]\n"
     ]
    }
   ],
   "source": [
    "answers = []\n",
    "for i, d in enumerate(skew):\n",
    "    if d == m:\n",
    "        answers.append(i + 1)\n",
    "print(answers)"
   ]
  },
  {
   "cell_type": "markdown",
   "metadata": {},
   "source": [
    "What is the complexity of the algorithm in terms of the length of the genome?"
   ]
  },
  {
   "cell_type": "markdown",
   "metadata": {},
   "source": [
    "Assuming the lenght of the genome is $n$, we checked each position once to update the skew array and then we sweeped over the skew array which itself has length $n$ to find the minimum points, so $O(2n)$ operations in total, linear in size of the genome."
   ]
  },
  {
   "cell_type": "markdown",
   "metadata": {},
   "source": [
    "# Hamming Distance\n",
    "\n",
    "The Hamming distance between two strings is the number of characters that are different between the two. Strings have to be of the same length for the Hamming distance to make sense. The Hamming distance is an old concept and has application in error correction and in communication channels. Let's try to implement it."
   ]
  },
  {
   "cell_type": "code",
   "execution_count": 66,
   "metadata": {},
   "outputs": [
    {
     "name": "stdout",
     "output_type": "stream",
     "text": [
      "GGGCCGTTGGT\n"
     ]
    }
   ],
   "source": [
    "p = 'G G G C C G T T G G T'\n",
    "q = 'G G A C C G T T G A C'"
   ]
  },
  {
   "cell_type": "code",
   "execution_count": 8,
   "metadata": {},
   "outputs": [],
   "source": [
    "def hamming_distance(p, q):\n",
    "    if len(p) != len(q):\n",
    "        return -1\n",
    "    l = len(p)\n",
    "    d = 0 # hamming distance\n",
    "    for i in range(l):\n",
    "        if p[i] != q[i]:\n",
    "            d += 1\n",
    "    return d"
   ]
  },
  {
   "cell_type": "code",
   "execution_count": 68,
   "metadata": {},
   "outputs": [
    {
     "data": {
      "text/plain": [
       "3"
      ]
     },
     "execution_count": 68,
     "metadata": {},
     "output_type": "execute_result"
    }
   ],
   "source": [
    "hamming_distance(p, q)"
   ]
  },
  {
   "cell_type": "markdown",
   "metadata": {},
   "source": [
    "It's indeed very straighforward to implement."
   ]
  },
  {
   "cell_type": "code",
   "execution_count": null,
   "metadata": {},
   "outputs": [],
   "source": [
    "p = 'ATCG'\n",
    "q = 'TATC'"
   ]
  },
  {
   "cell_type": "markdown",
   "metadata": {},
   "source": [
    "# Approximate Matching\n",
    "\n",
    "Equipped witht the concept of Hamming Distance, we can do approximate matching between strings, e.g we call two string to approximately match if there are less than $d$ mismatches between them. We choose $d$ based on how much error seems reasonable for our settings and applications."
   ]
  },
  {
   "cell_type": "code",
   "execution_count": 10,
   "metadata": {},
   "outputs": [],
   "source": [
    "def approximate_match(p, q, d):\n",
    "    if hamming_distance(p, q) <= d:\n",
    "        return True\n",
    "    return False"
   ]
  },
  {
   "cell_type": "markdown",
   "metadata": {},
   "source": [
    "Now let's try to find all substring of a large string (text) that approximately match with a shorter one (pattern)."
   ]
  },
  {
   "cell_type": "code",
   "execution_count": 69,
   "metadata": {},
   "outputs": [],
   "source": [
    "text = 'CGCCCGAATCCAGAACGCATTCCCATATTTCGGGACCACTGGCCTCCACGGTACGGACGTCAATCAAATGCCTAGCGGCTTGTGGTTTCTCCTACGCTCC'\n",
    "pattern = 'ATTCTGGA'"
   ]
  },
  {
   "cell_type": "code",
   "execution_count": 70,
   "metadata": {},
   "outputs": [],
   "source": [
    "def find_approximate_matches(text, pattern, d):\n",
    "    l = len(pattern)\n",
    "    for i in range(0, len(text) - l + 1):\n",
    "        if approximate_match(pattern, text[i: i + l], d):\n",
    "            print(i, text[i: i + l])"
   ]
  },
  {
   "cell_type": "code",
   "execution_count": 72,
   "metadata": {},
   "outputs": [
    {
     "name": "stdout",
     "output_type": "stream",
     "text": [
      "6 AATCCAGA\n",
      "7 ATCCAGAA\n",
      "26 ATTTCGGG\n",
      "27 TTTCGGGA\n",
      "78 CTTGTGGT\n"
     ]
    }
   ],
   "source": [
    "find_approximate_matches(text, pattern, 3)"
   ]
  },
  {
   "cell_type": "code",
   "execution_count": null,
   "metadata": {},
   "outputs": [],
   "source": [
    "A TT C TGG A\n",
    "C TT G TGG T"
   ]
  },
  {
   "cell_type": "markdown",
   "metadata": {},
   "source": [
    "What is the complexity of this algorithm?"
   ]
  },
  {
   "cell_type": "markdown",
   "metadata": {},
   "source": [
    "With the text being of length $n$ and patterns being of length $k$, there are $n - k$ strings to compare the pattern to. Each comparison takes $O(k)$ so total complexity is $O((n - k)\\times k)$. For a fixed $k$, this will be of $O(n)$."
   ]
  },
  {
   "cell_type": "markdown",
   "metadata": {},
   "source": [
    "# Frequent Words Problem\n",
    "\n",
    "Now assume we're given a text and we want to find the most frequent sequence of length $k$ in it. Simplest appraoch is to keep track of the number of times all possible sequences of length $k$ are seen in the pattern and choose the most common one."
   ]
  },
  {
   "cell_type": "code",
   "execution_count": 95,
   "metadata": {},
   "outputs": [],
   "source": [
    "def frequent_words(text, k):\n",
    "    frequency = {}\n",
    "    for i in range(0, len(text) - k + 1):\n",
    "        kmer = text[i: i + k]\n",
    "        if not kmer in frequency:\n",
    "            frequency[kmer] = 0\n",
    "        frequency[kmer] += 1\n",
    "    print(frequency)\n",
    "    #max_freq = -1\n",
    "    #max_kmer = None\n",
    "    #for kmer in frequency:\n",
    "    #    if frequency[kmer] > max_freq:\n",
    "    #        max_freq = frequency[kmer]\n",
    "    #        max_kmer = kmer\n",
    "    #print(max_kmer, max_freq)\n",
    "    print(max(frequency))"
   ]
  },
  {
   "cell_type": "code",
   "execution_count": 96,
   "metadata": {},
   "outputs": [
    {
     "name": "stdout",
     "output_type": "stream",
     "text": [
      "{'CGC': 3, 'GCC': 3, 'CCC': 2, 'CCG': 1, 'CGA': 1, 'GAA': 2, 'AAT': 3, 'ATC': 2, 'TCC': 5, 'CCA': 4, 'CAG': 1, 'AGA': 1, 'AAC': 1, 'ACG': 5, 'GCA': 1, 'CAT': 2, 'ATT': 2, 'TTC': 3, 'ATA': 1, 'TAT': 1, 'TTT': 2, 'TCG': 1, 'CGG': 4, 'GGG': 1, 'GGA': 2, 'GAC': 2, 'ACC': 1, 'CAC': 2, 'ACT': 1, 'CTG': 1, 'TGG': 2, 'GGC': 2, 'CCT': 3, 'CTC': 3, 'GGT': 2, 'GTA': 1, 'TAC': 2, 'CGT': 1, 'GTC': 1, 'TCA': 2, 'CAA': 2, 'AAA': 1, 'ATG': 1, 'TGC': 1, 'CTA': 2, 'TAG': 1, 'AGC': 1, 'GCG': 1, 'GCT': 2, 'CTT': 1, 'TTG': 1, 'TGT': 1, 'GTG': 1, 'GTT': 1, 'TCT': 1}\n",
      "TTT\n"
     ]
    }
   ],
   "source": [
    "frequent_words(text, 3)"
   ]
  },
  {
   "cell_type": "markdown",
   "metadata": {},
   "source": [
    "# Frequent Words with Mismatch and Reverse Complement Problem\n",
    "\n",
    "Finally, we try to find the most common kmer with up to one mismatch allowed. We assume a kmer and its reverse complement to be the same.\n"
   ]
  },
  {
   "cell_type": "markdown",
   "metadata": {},
   "source": [
    "Let's find the reverse complement first, no the most elegant solution:"
   ]
  },
  {
   "cell_type": "code",
   "execution_count": 61,
   "metadata": {},
   "outputs": [],
   "source": [
    "def reverse_complement(seq):\n",
    "    rc = ''\n",
    "    for c in seq[-1::-1]:\n",
    "        if c == 'G':\n",
    "            rc += 'C'\n",
    "        if c == 'C':\n",
    "            rc += 'G'\n",
    "        if c == 'A':\n",
    "            rc += 'T'\n",
    "        if c == 'T':\n",
    "            rc += 'A'\n",
    "    return rc"
   ]
  },
  {
   "cell_type": "code",
   "execution_count": 62,
   "metadata": {},
   "outputs": [
    {
     "data": {
      "text/plain": [
       "'CGAT'"
      ]
     },
     "execution_count": 62,
     "metadata": {},
     "output_type": "execute_result"
    }
   ],
   "source": [
    "reverse_complement('ATCG')"
   ]
  },
  {
   "cell_type": "markdown",
   "metadata": {},
   "source": [
    "Now let's calculate the neighborhood for $d = 1$. We just need to generate all sequences that have one base changed compared to the input:"
   ]
  },
  {
   "cell_type": "markdown",
   "metadata": {},
   "source": [
    "def generate_neighborhood(seq):\n",
    "    neighborhood = {}\n",
    "    bases = ['A', 'C', 'G', 'T']\n",
    "    for i in range(len(seq)):\n",
    "        for d in bases:\n",
    "            if seq[i] != d:\n",
    "                tmp = seq[:i] + d + seq[i + 1:]\n",
    "                neighborhood[tmp] = True\n",
    "    neighborhood[seq] = True\n",
    "    return neighborhood"
   ]
  },
  {
   "cell_type": "code",
   "execution_count": 19,
   "metadata": {},
   "outputs": [],
   "source": [
    "def generate_neighborhood(seq):\n",
    "    neighborhood = {}\n",
    "    bases = ['A', 'C', 'G', 'T']\n",
    "    for i in range(len(seq)):\n",
    "        for d in bases:\n",
    "            if seq[i] != d:\n",
    "                for j in range(len(seq)):\n",
    "                    for c in bases:\n",
    "                        if seq[j] != c:\n",
    "                            tmp = seq[:min(i, j)] + d + seq[min(i, j) + 1:max(i, j)] + c + seq[max(i, j) + 1:]\n",
    "                            neighborhood[tmp] = True\n",
    "    neighborhood[seq] = True\n",
    "    print(len(neighborhood))\n",
    "    return neighborhood"
   ]
  },
  {
   "cell_type": "code",
   "execution_count": 20,
   "metadata": {},
   "outputs": [
    {
     "name": "stdout",
     "output_type": "stream",
     "text": [
      "103\n"
     ]
    },
    {
     "data": {
      "text/plain": [
       "{'AAATG': True,\n",
       " 'ACATG': True,\n",
       " 'ATATG': True,\n",
       " 'ACTG': True,\n",
       " 'AGTG': True,\n",
       " 'ATTG': True,\n",
       " 'AAAG': True,\n",
       " 'AACG': True,\n",
       " 'AAGG': True,\n",
       " 'AATA': True,\n",
       " 'AATC': True,\n",
       " 'AATT': True,\n",
       " 'CAATG': True,\n",
       " 'CCATG': True,\n",
       " 'CTATG': True,\n",
       " 'CCTG': True,\n",
       " 'CGTG': True,\n",
       " 'CTTG': True,\n",
       " 'CAAG': True,\n",
       " 'CACG': True,\n",
       " 'CAGG': True,\n",
       " 'CATA': True,\n",
       " 'CATC': True,\n",
       " 'CATT': True,\n",
       " 'TAATG': True,\n",
       " 'TCATG': True,\n",
       " 'TTATG': True,\n",
       " 'TCTG': True,\n",
       " 'TGTG': True,\n",
       " 'TTTG': True,\n",
       " 'TAAG': True,\n",
       " 'TACG': True,\n",
       " 'TAGG': True,\n",
       " 'TATA': True,\n",
       " 'TATC': True,\n",
       " 'TATT': True,\n",
       " 'CATG': True,\n",
       " 'GCCTG': True,\n",
       " 'GCGTG': True,\n",
       " 'GCTTG': True,\n",
       " 'GCAG': True,\n",
       " 'GCCG': True,\n",
       " 'GCGG': True,\n",
       " 'GCTA': True,\n",
       " 'GCTC': True,\n",
       " 'GCTT': True,\n",
       " 'GATG': True,\n",
       " 'GCTG': True,\n",
       " 'GTTG': True,\n",
       " 'GGCTG': True,\n",
       " 'GGGTG': True,\n",
       " 'GGTTG': True,\n",
       " 'GGAG': True,\n",
       " 'GGCG': True,\n",
       " 'GGGG': True,\n",
       " 'GGTA': True,\n",
       " 'GGTC': True,\n",
       " 'GGTT': True,\n",
       " 'TATG': True,\n",
       " 'GTCTG': True,\n",
       " 'GTGTG': True,\n",
       " 'GTTTG': True,\n",
       " 'GTAG': True,\n",
       " 'GTCG': True,\n",
       " 'GTGG': True,\n",
       " 'GTTA': True,\n",
       " 'GTTC': True,\n",
       " 'GTTT': True,\n",
       " 'AATG': True,\n",
       " 'GACG': True,\n",
       " 'GAGG': True,\n",
       " 'GAAAG': True,\n",
       " 'GAACG': True,\n",
       " 'GAAGG': True,\n",
       " 'GAAA': True,\n",
       " 'GAAC': True,\n",
       " 'GAAT': True,\n",
       " 'GACAG': True,\n",
       " 'GACCG': True,\n",
       " 'GACGG': True,\n",
       " 'GACA': True,\n",
       " 'GACC': True,\n",
       " 'GACT': True,\n",
       " 'GAAG': True,\n",
       " 'GGTG': True,\n",
       " 'GAGAG': True,\n",
       " 'GAGCG': True,\n",
       " 'GAGGG': True,\n",
       " 'GAGA': True,\n",
       " 'GAGC': True,\n",
       " 'GAGT': True,\n",
       " 'GATC': True,\n",
       " 'GATT': True,\n",
       " 'GATAA': True,\n",
       " 'GATAC': True,\n",
       " 'GATAT': True,\n",
       " 'GATCA': True,\n",
       " 'GATCC': True,\n",
       " 'GATCT': True,\n",
       " 'GATA': True,\n",
       " 'GATTA': True,\n",
       " 'GATTC': True,\n",
       " 'GATTT': True}"
      ]
     },
     "execution_count": 20,
     "metadata": {},
     "output_type": "execute_result"
    }
   ],
   "source": [
    "generate_neighborhood('GATG')"
   ]
  },
  {
   "cell_type": "markdown",
   "metadata": {},
   "source": [
    "Now we can find the most frequent kmers with mismatches considered. For each kmer in the text, just increment all its neighbords and choose the most frequent strings in the end. The selected string may not even be in the text."
   ]
  },
  {
   "cell_type": "code",
   "execution_count": 63,
   "metadata": {},
   "outputs": [],
   "source": [
    "def frequent_words(text, k, d):\n",
    "    frequency = {}\n",
    "    neighborhoods = {}\n",
    "    for i in range(0, len(text) - k + 1):\n",
    "        kmer = text[i: i + k]\n",
    "        if not kmer in neighborhoods:\n",
    "            neighborhoods[kmer] = generate_neighborhood(kmer)\n",
    "            #neighborhoods[kmer].update(generate_neighborhood(reverse_complement(kmer)))\n",
    "        for seq in neighborhoods[kmer]:\n",
    "            if not seq in frequency:\n",
    "                frequency[seq] = 0\n",
    "            frequency[seq] += 1\n",
    "    m_key = max(frequency, key = frequency.get)\n",
    "    m_value = frequency[m_key]\n",
    "    for key in frequency:\n",
    "        if frequency[key] == m_value:\n",
    "            print(key)"
   ]
  },
  {
   "cell_type": "code",
   "execution_count": 97,
   "metadata": {},
   "outputs": [
    {
     "ename": "TypeError",
     "evalue": "frequent_words() takes 2 positional arguments but 3 were given",
     "output_type": "error",
     "traceback": [
      "\u001b[0;31m---------------------------------------------------------------------------\u001b[0m",
      "\u001b[0;31mTypeError\u001b[0m                                 Traceback (most recent call last)",
      "\u001b[0;32m<ipython-input-97-26983fcc2e81>\u001b[0m in \u001b[0;36m<module>\u001b[0;34m\u001b[0m\n\u001b[0;32m----> 1\u001b[0;31m \u001b[0mfrequent_words\u001b[0m\u001b[0;34m(\u001b[0m\u001b[0;34m'ACGTTGCATGTCGCATGATGCATGAGAGCT'\u001b[0m\u001b[0;34m,\u001b[0m \u001b[0;36m4\u001b[0m\u001b[0;34m,\u001b[0m \u001b[0;36m1\u001b[0m\u001b[0;34m)\u001b[0m\u001b[0;34m\u001b[0m\u001b[0;34m\u001b[0m\u001b[0m\n\u001b[0m",
      "\u001b[0;31mTypeError\u001b[0m: frequent_words() takes 2 positional arguments but 3 were given"
     ]
    }
   ],
   "source": [
    "frequent_words('ACGTTGCATGTCGCATGATGCATGAGAGCT', 4, 1)"
   ]
  },
  {
   "cell_type": "markdown",
   "metadata": {},
   "source": [
    "What is the complecity here?"
   ]
  },
  {
   "cell_type": "markdown",
   "metadata": {},
   "source": [
    "We still have $O(n)$ kmers in text. For $d = 1$, each kmer will have $3\\times k + 1$ neighbors, or $O(k)$ in short. All of these have to be checked for each kmer of text and each check take $O(k)$ time, so total number of checks is $O(n\\times k\\times k)$."
   ]
  },
  {
   "cell_type": "markdown",
   "metadata": {},
   "source": [
    "How do we calculate the number of neighbors for arbitrary $d$?"
   ]
  },
  {
   "cell_type": "markdown",
   "metadata": {},
   "source": [
    "$\\quad$ Have to sum over neighbors for all values of $d$ from zero to $d$."
   ]
  },
  {
   "cell_type": "markdown",
   "metadata": {},
   "source": [
    "For a given $d$ there will be ${d \\choose k} \\times (4^d - 1)$ neighbors."
   ]
  },
  {
   "cell_type": "markdown",
   "metadata": {},
   "source": [
    "Why $4 ^ d - 1$?"
   ]
  },
  {
   "cell_type": "markdown",
   "metadata": {},
   "source": [
    "$\\quad$ Because one of the possible permutations for each selection of $d$ positions to change is the original sequence itself."
   ]
  },
  {
   "cell_type": "markdown",
   "metadata": {},
   "source": [
    "Now you can try and implement the `generate_neighbors` function above for different values of $d$. Hint: use recursion!"
   ]
  }
 ],
 "metadata": {
  "kernelspec": {
   "display_name": "Python 3",
   "language": "python",
   "name": "python3"
  },
  "language_info": {
   "codemirror_mode": {
    "name": "ipython",
    "version": 3
   },
   "file_extension": ".py",
   "mimetype": "text/x-python",
   "name": "python",
   "nbconvert_exporter": "python",
   "pygments_lexer": "ipython3",
   "version": "3.7.3"
  }
 },
 "nbformat": 4,
 "nbformat_minor": 4
}
