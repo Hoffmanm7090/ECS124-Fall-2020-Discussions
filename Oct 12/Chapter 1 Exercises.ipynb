{
 "cells": [
  {
   "cell_type": "markdown",
   "metadata": {},
   "source": [
    "# Minimum Skew Problem\n",
    "\n",
    "We're going to solve the Minimum Skew Problem in chpater 1.7 of the book. I Won't repeat the biology here, but general idea is that there will be less Gs on the reverse strand compared and less Cs on the forward strand. This means that as you go over the reverse strand you'll see more Cs than Gs and as you go over the forward strand you'll see more Gs than Cs. \n",
    "\n",
    "First let's try to calculate the differnece between Gs and Cs in a given genome:"
   ]
  },
  {
   "cell_type": "code",
   "execution_count": 2,
   "metadata": {},
   "outputs": [],
   "source": [
    "genome = 'CCTATCGGTGGATTAGCATGTCCCTGTACGTTTCGCCGCGAACTAGTTCACACGGCTTGATGGCAAATGGTTTTTCCGGCGACCGTAATCGTCCACCGAG'"
   ]
  },
  {
   "cell_type": "code",
   "execution_count": 3,
   "metadata": {},
   "outputs": [],
   "source": [
    "diff = 0\n",
    "skew = []\n",
    "for i, c in enumerate(genome):\n",
    "    if c == 'G':\n",
    "        diff += 1\n",
    "    if c == 'C':\n",
    "        diff -= 1\n",
    "    skew.append(diff)"
   ]
  },
  {
   "cell_type": "markdown",
   "metadata": {},
   "source": [
    "We stored the difference at each point in the genome in the array `skew`. Now let's find the minimum:"
   ]
  },
  {
   "cell_type": "code",
   "execution_count": 4,
   "metadata": {},
   "outputs": [],
   "source": [
    "m = min(skew)"
   ]
  },
  {
   "cell_type": "markdown",
   "metadata": {},
   "source": [
    "Now that we know the minimum, let's find all the positions in the genome where the skew has this value:"
   ]
  },
  {
   "cell_type": "code",
   "execution_count": 5,
   "metadata": {},
   "outputs": [
    {
     "name": "stdout",
     "output_type": "stream",
     "text": [
      "[53, 97]\n"
     ]
    }
   ],
   "source": [
    "answers = []\n",
    "for i, d in enumerate(skew):\n",
    "    if d == m:\n",
    "        answers.append(i + 1)\n",
    "print(answers)"
   ]
  },
  {
   "cell_type": "markdown",
   "metadata": {},
   "source": [
    "What is the complexity of the algorithm in terms of the length of the genome?"
   ]
  },
  {
   "cell_type": "markdown",
   "metadata": {},
   "source": [
    "Assuming the lenght of the genome is $n$, we checked each position once to update the skew array and then we sweeped over the skew array which itself has length $n$ to find the minimum points, so $O(2n)$ operations in total, linear in size of the genome."
   ]
  },
  {
   "cell_type": "markdown",
   "metadata": {},
   "source": [
    "# Hamming Distance\n",
    "\n",
    "The Hamming distance between two strings is the number of characters that are different between the two. Strings have to be of the same length for the Hamming distance to make sense. The Hamming distance is an old concept and has application in error correction and in communication channels. Let's try to implement it."
   ]
  },
  {
   "cell_type": "code",
   "execution_count": 7,
   "metadata": {},
   "outputs": [],
   "source": [
    "p = 'GGGCCGTTGGT'\n",
    "q = 'GGACCGTTGAC'"
   ]
  },
  {
   "cell_type": "code",
   "execution_count": 8,
   "metadata": {},
   "outputs": [],
   "source": [
    "def hamming_distance(p, q):\n",
    "    l = len(p)\n",
    "    d = 0\n",
    "    for i in range(l):\n",
    "        if p[i] != q[i]:\n",
    "            d += 1\n",
    "    return d"
   ]
  },
  {
   "cell_type": "code",
   "execution_count": 9,
   "metadata": {},
   "outputs": [
    {
     "data": {
      "text/plain": [
       "3"
      ]
     },
     "execution_count": 9,
     "metadata": {},
     "output_type": "execute_result"
    }
   ],
   "source": [
    "hamming_distance(p, q)"
   ]
  },
  {
   "cell_type": "markdown",
   "metadata": {},
   "source": [
    "It's indeed very straighforward to implement."
   ]
  },
  {
   "cell_type": "markdown",
   "metadata": {},
   "source": [
    "# Approximate Matching\n",
    "\n",
    "Equipped witht the concept of Hamming Distance, we can do approximate matching between strings, e.g we call two string to approximately match if there are less than $d$ mismatches between them. We choose $d$ based on how much error seems reasonable for our settings and applications."
   ]
  },
  {
   "cell_type": "code",
   "execution_count": 10,
   "metadata": {},
   "outputs": [],
   "source": [
    "def approximate_match(p, q, d):\n",
    "    if hamming_distance(p, q) <= d:\n",
    "        return True\n",
    "    return False"
   ]
  },
  {
   "cell_type": "markdown",
   "metadata": {},
   "source": [
    "Now let's try to find all substring of a large string (text) that approximately match with a shorter one (pattern)."
   ]
  },
  {
   "cell_type": "code",
   "execution_count": 11,
   "metadata": {},
   "outputs": [],
   "source": [
    "text = 'CGCCCGAATCCAGAACGCATTCCCATATTTCGGGACCACTGGCCTCCACGGTACGGACGTCAATCAAATGCCTAGCGGCTTGTGGTTTCTCCTACGCTCC'\n",
    "pattern = 'ATTCTGGA'"
   ]
  },
  {
   "cell_type": "code",
   "execution_count": 14,
   "metadata": {},
   "outputs": [],
   "source": [
    "def find_approximate_matches(text, pattern, d):\n",
    "    l = len(pattern)\n",
    "    for i in range(0, len(text) - l + 1):\n",
    "        if approximate_match(pattern, text[i: i + l], d):\n",
    "            print(i)"
   ]
  },
  {
   "cell_type": "code",
   "execution_count": 15,
   "metadata": {},
   "outputs": [
    {
     "name": "stdout",
     "output_type": "stream",
     "text": [
      "6\n",
      "7\n",
      "26\n",
      "27\n",
      "78\n"
     ]
    }
   ],
   "source": [
    "find_approximate_matches(text, pattern, 3)"
   ]
  },
  {
   "cell_type": "markdown",
   "metadata": {},
   "source": [
    "What is the complexity of this algorithm?"
   ]
  },
  {
   "cell_type": "markdown",
   "metadata": {},
   "source": [
    "With the text being of length $n$ and patterns being of length $k$, there are $n - k$ strings to compare the pattern to. Each comparison takes $O(k)$ so total complexity is $O((n - k)\\times k)$. For a fixed $k$, this will be of $O(n)$."
   ]
  },
  {
   "cell_type": "markdown",
   "metadata": {},
   "source": [
    "# Frequent Words Problem\n",
    "\n",
    "Now assume we're given a text and we want to find the most frequent sequence of length $k$ in it. Simplest appraoch is to keep track of the number of times all possible sequences of length $k$ are seen in the pattern and choose the most common one."
   ]
  },
  {
   "cell_type": "code",
   "execution_count": 16,
   "metadata": {},
   "outputs": [],
   "source": [
    "def frequent_words(text, k):\n",
    "    frequency = {}\n",
    "    for i in range(0, len(text) - k + 1):\n",
    "        kmer = text[i: i + k]\n",
    "        if not kmer in frequency:\n",
    "            frequency[kmer] = 0\n",
    "        frequency[kmer] += 1\n",
    "    return max(frequncy, key = frequency.get)"
   ]
  },
  {
   "cell_type": "markdown",
   "metadata": {},
   "source": [
    "# Frequent Words with Mismatch and Reverse Complement Problem\n",
    "\n",
    "Finally, we try to find the most common kmer with up to one mismatch allowed. We assume a kmer and its reverse complement to be the same.\n"
   ]
  },
  {
   "cell_type": "markdown",
   "metadata": {},
   "source": [
    "Let's find the reverse complement first, no the most elegant solution:"
   ]
  },
  {
   "cell_type": "code",
   "execution_count": 61,
   "metadata": {},
   "outputs": [],
   "source": [
    "def reverse_complement(seq):\n",
    "    rc = ''\n",
    "    for c in seq[-1::-1]:\n",
    "        if c == 'G':\n",
    "            rc += 'C'\n",
    "        if c == 'C':\n",
    "            rc += 'G'\n",
    "        if c == 'A':\n",
    "            rc += 'T'\n",
    "        if c == 'T':\n",
    "            rc += 'A'\n",
    "    return rc"
   ]
  },
  {
   "cell_type": "code",
   "execution_count": 62,
   "metadata": {},
   "outputs": [
    {
     "data": {
      "text/plain": [
       "'CGAT'"
      ]
     },
     "execution_count": 62,
     "metadata": {},
     "output_type": "execute_result"
    }
   ],
   "source": [
    "reverse_complement('ATCG')"
   ]
  },
  {
   "cell_type": "markdown",
   "metadata": {},
   "source": [
    "Now let's calculate the neighborhood for $d = 1$. We just need to generate all sequences that have one base changed compared to the input:"
   ]
  },
  {
   "cell_type": "code",
   "execution_count": 36,
   "metadata": {},
   "outputs": [],
   "source": [
    "def generate_neighborhood(seq):\n",
    "    neighborhood = {}\n",
    "    bases = ['A', 'C', 'G', 'T']\n",
    "    for i in range(len(seq)):\n",
    "        for d in bases:\n",
    "            if seq[i] != d:\n",
    "                tmp = seq[:i] + d + seq[i + 1:]\n",
    "                neighborhood[tmp] = True\n",
    "    neighborhood[seq] = True\n",
    "    return neighborhood"
   ]
  },
  {
   "cell_type": "code",
   "execution_count": 46,
   "metadata": {},
   "outputs": [
    {
     "data": {
      "text/plain": [
       "{'AATG': True,\n",
       " 'CATG': True,\n",
       " 'TATG': True,\n",
       " 'GCTG': True,\n",
       " 'GGTG': True,\n",
       " 'GTTG': True,\n",
       " 'GAAG': True,\n",
       " 'GACG': True,\n",
       " 'GAGG': True,\n",
       " 'GATA': True,\n",
       " 'GATC': True,\n",
       " 'GATT': True,\n",
       " 'GATG': True}"
      ]
     },
     "execution_count": 46,
     "metadata": {},
     "output_type": "execute_result"
    }
   ],
   "source": [
    "generate_neighborhood('GATG')"
   ]
  },
  {
   "cell_type": "markdown",
   "metadata": {},
   "source": [
    "Now we can find the most frequent kmers with mismatches considered. For each kmer in the text, just increment all its neighbords and choose the most frequent strings in"
   ]
  },
  {
   "cell_type": "code",
   "execution_count": 63,
   "metadata": {},
   "outputs": [],
   "source": [
    "def frequent_words(text, k, d):\n",
    "    frequency = {}\n",
    "    neighborhoods = {}\n",
    "    for i in range(0, len(text) - k + 1):\n",
    "        kmer = text[i: i + k]\n",
    "        if not kmer in neighborhoods:\n",
    "            neighborhoods[kmer] = generate_neighborhood(kmer)\n",
    "            #neighborhoods[kmer].update(generate_neighborhood(reverse_complement(kmer)))\n",
    "        for seq in neighborhoods[kmer]:\n",
    "            if not seq in frequency:\n",
    "                frequency[seq] = 0\n",
    "            frequency[seq] += 1\n",
    "    m_key = max(frequency, key = frequency.get)\n",
    "    m_value = frequency[m_key]\n",
    "    for key in frequency:\n",
    "        if frequency[key] == m_value:\n",
    "            print(key)"
   ]
  },
  {
   "cell_type": "code",
   "execution_count": 64,
   "metadata": {},
   "outputs": [
    {
     "name": "stdout",
     "output_type": "stream",
     "text": [
      "ATGT\n",
      "ACAT\n",
      "ATGC\n",
      "GCAT\n",
      "TCAT\n",
      "ATGA\n"
     ]
    }
   ],
   "source": [
    "frequent_words('ACGTTGCATGTCGCATGATGCATGAGAGCT', 4, 1)"
   ]
  },
  {
   "cell_type": "markdown",
   "metadata": {},
   "source": [
    "What is the complecity here?"
   ]
  },
  {
   "cell_type": "markdown",
   "metadata": {},
   "source": [
    "We still have $O(n)$ kmers in text. For $d = 1$, each kmer will have $3\\times k + 1$ neighbors, or $O(k)$ in short. All of these have to be checked for each kmer of text and each check take $O(k)$ time, so total number of checks is $O(n\\times k\\times k)$."
   ]
  },
  {
   "cell_type": "markdown",
   "metadata": {},
   "source": [
    "How do we calculate the number of neighbors for arbitrary $d$?"
   ]
  },
  {
   "cell_type": "markdown",
   "metadata": {},
   "source": [
    "$\\quad$ Have to sum over neighbors for all values of $d$ from zero to $d$."
   ]
  },
  {
   "cell_type": "markdown",
   "metadata": {},
   "source": [
    "For a given $d$ there will be ${d \\choose k} \\times (4^d - 1)$ neighbors."
   ]
  },
  {
   "cell_type": "markdown",
   "metadata": {},
   "source": [
    "Why $4 ^ d - 1$?"
   ]
  },
  {
   "cell_type": "markdown",
   "metadata": {},
   "source": [
    "$\\quad$ Because one of the possible permutations for each selection of $d$ positions to change is the original sequence itself."
   ]
  },
  {
   "cell_type": "code",
   "execution_count": null,
   "metadata": {},
   "outputs": [],
   "source": []
  }
 ],
 "metadata": {
  "kernelspec": {
   "display_name": "Python 3",
   "language": "python",
   "name": "python3"
  },
  "language_info": {
   "codemirror_mode": {
    "name": "ipython",
    "version": 3
   },
   "file_extension": ".py",
   "mimetype": "text/x-python",
   "name": "python",
   "nbconvert_exporter": "python",
   "pygments_lexer": "ipython3",
   "version": "3.7.3"
  }
 },
 "nbformat": 4,
 "nbformat_minor": 4
}
