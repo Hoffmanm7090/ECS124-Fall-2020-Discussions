{
 "cells": [
  {
   "cell_type": "markdown",
   "metadata": {},
   "source": [
    "# Find Clumps"
   ]
  },
  {
   "cell_type": "code",
   "execution_count": null,
   "metadata": {},
   "outputs": [],
   "source": [
    "FindClumps(Text, k, L, t)\n",
    "    Patterns ← an array of strings of length 0\n",
    "    n ← |Text|\n",
    "    for every integer i between 0 and n − L\n",
    "        Window ← Text(i, L)\n",
    "        freqMap ← FrequencyTable(Window, k)\n",
    "        for every key s in freqMap\n",
    "            if freqMap[s] ≥ t\n",
    "                append s to Patterns\n",
    "    remove duplicates from Patterns\n",
    "    return Patterns"
   ]
  },
  {
   "cell_type": "code",
   "execution_count": 4,
   "metadata": {},
   "outputs": [],
   "source": [
    "genome = 'CGGACTCGACAGATGTGAAGAAATGTGAAGACTGAGTGAAGAGAAGAGGAAACACGACACGACATTGCGACATAATGTACGAATGTAATGTGCCTATGGC'"
   ]
  },
  {
   "cell_type": "code",
   "execution_count": 5,
   "metadata": {},
   "outputs": [],
   "source": [
    "def find_clumps(text, k, l, t):\n",
    "    n = len(text)\n",
    "    clumps = {}\n",
    "    for i in range(n - l + 1):\n",
    "        window = text[i: i + l]\n",
    "        freq = {}\n",
    "        for j in range(l - k + 1):\n",
    "            kmer = window[j:j + k]\n",
    "            if not kmer in freq:\n",
    "                freq[kmer] = 0\n",
    "            freq[kmer] += 1\n",
    "        for kmer in freq:\n",
    "            if freq[kmer] >= t:\n",
    "                clumps[kmer] = True\n",
    "    return clumps"
   ]
  },
  {
   "cell_type": "code",
   "execution_count": 6,
   "metadata": {},
   "outputs": [
    {
     "data": {
      "text/plain": [
       "{'CGACA': True, 'GAAGA': True, 'AATGT': True}"
      ]
     },
     "execution_count": 6,
     "metadata": {},
     "output_type": "execute_result"
    }
   ],
   "source": [
    "find_clumps(genome, 5, 75, 4)"
   ]
  },
  {
   "cell_type": "code",
   "execution_count": null,
   "metadata": {},
   "outputs": [],
   "source": []
  }
 ],
 "metadata": {
  "kernelspec": {
   "display_name": "Python 3",
   "language": "python",
   "name": "python3"
  },
  "language_info": {
   "codemirror_mode": {
    "name": "ipython",
    "version": 3
   },
   "file_extension": ".py",
   "mimetype": "text/x-python",
   "name": "python",
   "nbconvert_exporter": "python",
   "pygments_lexer": "ipython3",
   "version": "3.7.3"
  }
 },
 "nbformat": 4,
 "nbformat_minor": 4
}
